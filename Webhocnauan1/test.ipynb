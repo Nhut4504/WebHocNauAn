{
 "cells": [
  {
   "cell_type": "code",
   "execution_count": 1,
   "metadata": {},
   "outputs": [
    {
     "data": {
      "text/plain": [
       "[{'productid': 1,\n",
       "  'categoryid': 1,\n",
       "  'productname': 'Cơm chiên thập cẩm',\n",
       "  'imageurl': 'comchien.jpg',\n",
       "  'note': 'Cách làm cơm chiên thập cẩm trong 15 phút',\n",
       "  'rating': Decimal('4.00')},\n",
       " {'productid': 2,\n",
       "  'categoryid': 2,\n",
       "  'productname': 'Mì xào hải sản',\n",
       "  'imageurl': 'mixaohaisan.jpg',\n",
       "  'note': 'Cách làm mì xào hải sản trong 15 phút',\n",
       "  'rating': Decimal('3.50')},\n",
       " {'productid': 3,\n",
       "  'categoryid': 1,\n",
       "  'productname': 'Cơm xào bò',\n",
       "  'imageurl': 'comxaobo.jpg',\n",
       "  'note': 'Cách làm cơm xào bò trong 15 phút',\n",
       "  'rating': Decimal('3.00')},\n",
       " {'productid': 4,\n",
       "  'categoryid': 3,\n",
       "  'productname': 'Canh khoai mỡ',\n",
       "  'imageurl': 'canhkhoaimo.jpg',\n",
       "  'note': 'Cách làm canh khoai mỡ trong 20 phút',\n",
       "  'rating': Decimal('4.50')},\n",
       " {'productid': 5,\n",
       "  'categoryid': 4,\n",
       "  'productname': 'Cháo gà',\n",
       "  'imageurl': 'chaoga.jpg',\n",
       "  'note': 'Cách làm cháo gà trong 25 phút',\n",
       "  'rating': Decimal('4.00')},\n",
       " {'productid': 6,\n",
       "  'categoryid': 5,\n",
       "  'productname': 'Bánh flan',\n",
       "  'imageurl': 'banhflan.jpg',\n",
       "  'note': 'Cách làm bánh flan trong 20 phút',\n",
       "  'rating': Decimal('3.50')}]"
      ]
     },
     "execution_count": 1,
     "metadata": {},
     "output_type": "execute_result"
    }
   ],
   "source": [
    "from db import getHocnauans\n",
    "getHocnauans()"
   ]
  }
 ],
 "metadata": {
  "kernelspec": {
   "display_name": "Python 3",
   "language": "python",
   "name": "python3"
  },
  "language_info": {
   "codemirror_mode": {
    "name": "ipython",
    "version": 3
   },
   "file_extension": ".py",
   "mimetype": "text/x-python",
   "name": "python",
   "nbconvert_exporter": "python",
   "pygments_lexer": "ipython3",
   "version": "3.10.16"
  }
 },
 "nbformat": 4,
 "nbformat_minor": 2
}
